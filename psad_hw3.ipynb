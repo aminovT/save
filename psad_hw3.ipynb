{
 "cells": [
  {
   "cell_type": "code",
   "execution_count": 1,
   "metadata": {},
   "outputs": [
    {
     "name": "stdout",
     "output_type": "stream",
     "text": [
      "Requirement already satisfied: permute==0.1a4 in c:\\users\\admin\\anaconda3\\lib\\site-packages (0.1a4)\n",
      "Requirement already satisfied: scipy in c:\\users\\admin\\anaconda3\\lib\\site-packages (from permute==0.1a4) (1.0.0)\n",
      "Requirement already satisfied: numpy in c:\\users\\admin\\anaconda3\\lib\\site-packages (from permute==0.1a4) (1.17.0)\n"
     ]
    },
    {
     "name": "stderr",
     "output_type": "stream",
     "text": [
      "WARNING: You are using pip version 19.3.1; however, version 20.0.2 is available.\n",
      "You should consider upgrading via the 'python -m pip install --upgrade pip' command.\n"
     ]
    }
   ],
   "source": [
    "!pip install permute==0.1a4"
   ]
  },
  {
   "cell_type": "code",
   "execution_count": 2,
   "metadata": {},
   "outputs": [
    {
     "name": "stdout",
     "output_type": "stream",
     "text": [
      "Requirement already satisfied: arch==4.7.0 in c:\\users\\admin\\anaconda3\\lib\\site-packages (4.7.0)\n",
      "Requirement already satisfied: scipy>=0.19 in c:\\users\\admin\\anaconda3\\lib\\site-packages (from arch==4.7.0) (1.0.0)\n",
      "Requirement already satisfied: numpy>=1.12 in c:\\users\\admin\\anaconda3\\lib\\site-packages (from arch==4.7.0) (1.17.0)\n",
      "Requirement already satisfied: pandas>=0.20 in c:\\users\\admin\\anaconda3\\lib\\site-packages (from arch==4.7.0) (0.24.2)\n",
      "Requirement already satisfied: statsmodels>=0.8 in c:\\users\\admin\\anaconda3\\lib\\site-packages (from arch==4.7.0) (0.8.0)\n",
      "Requirement already satisfied: cached-property>=1.5.1 in c:\\users\\admin\\anaconda3\\lib\\site-packages (from arch==4.7.0) (1.5.1)\n",
      "Requirement already satisfied: python-dateutil>=2.5.0 in c:\\users\\admin\\anaconda3\\lib\\site-packages (from pandas>=0.20->arch==4.7.0) (2.6.1)\n",
      "Requirement already satisfied: pytz>=2011k in c:\\users\\admin\\anaconda3\\lib\\site-packages (from pandas>=0.20->arch==4.7.0) (2017.3)\n",
      "Requirement already satisfied: six>=1.5 in c:\\users\\admin\\anaconda3\\lib\\site-packages (from python-dateutil>=2.5.0->pandas>=0.20->arch==4.7.0) (1.11.0)\n"
     ]
    },
    {
     "name": "stderr",
     "output_type": "stream",
     "text": [
      "WARNING: You are using pip version 19.3.1; however, version 20.0.2 is available.\n",
      "You should consider upgrading via the 'python -m pip install --upgrade pip' command.\n"
     ]
    }
   ],
   "source": [
    "!pip install arch==4.7.0"
   ]
  },
  {
   "cell_type": "code",
   "execution_count": 3,
   "metadata": {},
   "outputs": [],
   "source": [
    "import pandas as pd\n",
    "import numpy as np\n",
    "import itertools\n",
    "import scipy.stats as st\n",
    "from statsmodels.stats.descriptivestats import sign_test\n",
    "from permute.core import one_sample\n",
    "from arch.bootstrap import IIDBootstrap\n",
    "\n",
    "import matplotlib.pyplot as plt\n",
    "%matplotlib inline"
   ]
  },
  {
   "cell_type": "code",
   "execution_count": 4,
   "metadata": {},
   "outputs": [],
   "source": [
    "# https://raw.githubusercontent.com/Intelligent-Systems-Phystech/psad-2020/master/homework_data/sem_3/grigorev.ad.csv\n",
    "data = pd.read_csv('D:\\\\psad\\\\hw3\\\\varenik.nv.csv', header=None).values.reshape(1, -1)[0]"
   ]
  },
  {
   "cell_type": "code",
   "execution_count": 5,
   "metadata": {},
   "outputs": [
    {
     "data": {
      "image/png": "[encoded data removed]",
      "text/plain": [
       "<matplotlib.figure.Figure at 0x1c1f288c2e8>"
      ]
     },
     "metadata": {},
     "output_type": "display_data"
    }
   ],
   "source": [
    "plt.hist(data, bins=12);"
   ]
  },
  {
   "cell_type": "code",
   "execution_count": 6,
   "metadata": {},
   "outputs": [
    {
     "data": {
      "text/plain": [
       "0.004364364314824343"
      ]
     },
     "execution_count": 6,
     "metadata": {},
     "output_type": "execute_result"
    }
   ],
   "source": [
    "# t-test не применим, т.к. нет нормальности\n",
    "_, p_vals = st.shapiro(data)\n",
    "p_vals"
   ]
  },
  {
   "cell_type": "code",
   "execution_count": 7,
   "metadata": {},
   "outputs": [
    {
     "name": "stdout",
     "output_type": "stream",
     "text": [
      "1.0\n"
     ]
    }
   ],
   "source": [
    "# Уилкоксон\n",
    "_, p_vals = st.wilcoxon(data)\n",
    "print(round(p_vals, 2))"
   ]
  },
  {
   "cell_type": "code",
   "execution_count": 8,
   "metadata": {},
   "outputs": [
    {
     "name": "stdout",
     "output_type": "stream",
     "text": [
      "1.0\n"
     ]
    }
   ],
   "source": [
    "# Критерий знаков\n",
    "_, p_vals = sign_test(data)\n",
    "print(round(p_vals, 2))"
   ]
  },
  {
   "cell_type": "code",
   "execution_count": 9,
   "metadata": {},
   "outputs": [
    {
     "name": "stdout",
     "output_type": "stream",
     "text": [
      "4096\n"
     ]
    }
   ],
   "source": [
    "# Число перестановок\n",
    "print(2**data.shape[0])"
   ]
  },
  {
   "cell_type": "code",
   "execution_count": 10,
   "metadata": {},
   "outputs": [
    {
     "data": {
      "text/plain": [
       "1205"
      ]
     },
     "execution_count": 10,
     "metadata": {},
     "output_type": "execute_result"
    }
   ],
   "source": [
    "count = 0\n",
    "good = 0\n",
    "T = data - 0.5\n",
    "t = np.sum(T)\n",
    "for v in itertools.product([-1, 1], repeat=12):\n",
    "    count += 1\n",
    "    stat = np.dot(T, v)\n",
    "    if stat <= t:\n",
    "        good += 1\n",
    "          \n",
    "good"
   ]
  },
  {
   "cell_type": "code",
   "execution_count": 11,
   "metadata": {},
   "outputs": [
    {
     "name": "stdout",
     "output_type": "stream",
     "text": [
      "[[-1.29275136]\n",
      " [ 1.42543216]]\n"
     ]
    }
   ],
   "source": [
    "# Бутстреп\n",
    "bs = IIDBootstrap(data)\n",
    "print(bs.conf_int(np.mean, method='basic'))"
   ]
  },
  {
   "cell_type": "code",
   "execution_count": null,
   "metadata": {},
   "outputs": [],
   "source": []
  },
  {
   "cell_type": "code",
   "execution_count": null,
   "metadata": {},
   "outputs": [],
   "source": []
  },
  {
   "cell_type": "code",
   "execution_count": 85,
   "metadata": {},
   "outputs": [
    {
     "data": {
      "text/plain": [
       "(0.698486328125, -0.40943725302520345)"
      ]
     },
     "execution_count": 85,
     "metadata": {},
     "output_type": "execute_result"
    }
   ],
   "source": [
    "p_vals, test_stat, stats_list = one_sample(data-0.5, reps=4096, alternative='two-sided', keep_dist=True)\n",
    "p_vals, test_stat"
   ]
  },
  {
   "cell_type": "code",
   "execution_count": 86,
   "metadata": {},
   "outputs": [
    {
     "name": "stdout",
     "output_type": "stream",
     "text": [
      "1235\n"
     ]
    }
   ],
   "source": [
    "# Количество перестановок, для которых значение статистики меньше значения оригинальной статистики \n",
    "stats_array = np.array(stats_list)\n",
    "print(stats_array[stats_array <= test_stat].shape[0])"
   ]
  }
 ],
 "metadata": {
  "kernelspec": {
   "display_name": "Python 3",
   "language": "python",
   "name": "python3"
  },
  "language_info": {
   "codemirror_mode": {
    "name": "ipython",
    "version": 3
   },
   "file_extension": ".py",
   "mimetype": "text/x-python",
   "name": "python",
   "nbconvert_exporter": "python",
   "pygments_lexer": "ipython3",
   "version": "3.6.4"
  }
 },
 "nbformat": 4,
 "nbformat_minor": 2
}
