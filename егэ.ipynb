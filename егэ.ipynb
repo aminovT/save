{
 "cells": [
  {
   "cell_type": "code",
   "execution_count": 1,
   "metadata": {},
   "outputs": [],
   "source": [
    "a = []\n"
   ]
  },
  {
   "cell_type": "code",
   "execution_count": 4,
   "metadata": {},
   "outputs": [],
   "source": [
    "a.append(4)"
   ]
  },
  {
   "cell_type": "code",
   "execution_count": 5,
   "metadata": {},
   "outputs": [
    {
     "data": {
      "text/plain": [
       "[4, 4]"
      ]
     },
     "execution_count": 5,
     "metadata": {},
     "output_type": "execute_result"
    }
   ],
   "source": [
    "a"
   ]
  },
  {
   "cell_type": "code",
   "execution_count": 6,
   "metadata": {},
   "outputs": [],
   "source": [
    "a.extend(a)"
   ]
  },
  {
   "cell_type": "code",
   "execution_count": 7,
   "metadata": {},
   "outputs": [
    {
     "data": {
      "text/plain": [
       "[4, 4, 4, 4]"
      ]
     },
     "execution_count": 7,
     "metadata": {},
     "output_type": "execute_result"
    }
   ],
   "source": [
    "a"
   ]
  },
  {
   "cell_type": "code",
   "execution_count": 8,
   "metadata": {},
   "outputs": [],
   "source": [
    "\n"
   ]
  },
  {
   "cell_type": "code",
   "execution_count": 144,
   "metadata": {},
   "outputs": [],
   "source": [
    "\n",
    "a = []\n",
    "n = 1000\n",
    "for i in range(n):\n",
    "    a.append(round(99*random.random()+1))"
   ]
  },
  {
   "cell_type": "code",
   "execution_count": 133,
   "metadata": {},
   "outputs": [
    {
     "data": {
      "text/plain": [
       "[54, 23, 93, 52, 70, 33, 96, 69, 10, 76]"
      ]
     },
     "execution_count": 133,
     "metadata": {},
     "output_type": "execute_result"
    }
   ],
   "source": []
  },
  {
   "cell_type": "code",
   "execution_count": 11,
   "metadata": {},
   "outputs": [],
   "source": [
    "import random"
   ]
  },
  {
   "cell_type": "code",
   "execution_count": 129,
   "metadata": {},
   "outputs": [
    {
     "data": {
      "text/plain": [
       "68"
      ]
     },
     "execution_count": 129,
     "metadata": {},
     "output_type": "execute_result"
    }
   ],
   "source": [
    "round(99*random.random()+1)"
   ]
  },
  {
   "cell_type": "code",
   "execution_count": 142,
   "metadata": {},
   "outputs": [],
   "source": [
    "count = [ 0 for i in range(10)]"
   ]
  },
  {
   "cell_type": "code",
   "execution_count": 143,
   "metadata": {},
   "outputs": [
    {
     "data": {
      "text/plain": [
       "[0, 0, 0, 0, 0, 0, 0, 0, 0, 0]"
      ]
     },
     "execution_count": 143,
     "metadata": {},
     "output_type": "execute_result"
    }
   ],
   "source": [
    "count"
   ]
  },
  {
   "cell_type": "code",
   "execution_count": 154,
   "metadata": {},
   "outputs": [
    {
     "data": {
      "text/plain": [
       "5"
      ]
     },
     "execution_count": 154,
     "metadata": {},
     "output_type": "execute_result"
    }
   ],
   "source": [
    "54//10"
   ]
  },
  {
   "cell_type": "code",
   "execution_count": 153,
   "metadata": {},
   "outputs": [
    {
     "name": "stdout",
     "output_type": "stream",
     "text": [
      "1 0\n",
      "11 0\n",
      "21 0\n",
      "31 0\n",
      "41 0\n",
      "51 0\n",
      "61 0\n",
      "71 0\n",
      "81 0\n",
      "91 0\n"
     ]
    }
   ],
   "source": [
    "for k ,j  in enumerate(count):\n",
    "    print( k*10 +1 , j)"
   ]
  },
  {
   "cell_type": "code",
   "execution_count": 155,
   "metadata": {},
   "outputs": [],
   "source": [
    "for i in a:\n",
    "    k = (i - 1) // 10\n",
    "    count[k] += 1\n",
    "        "
   ]
  },
  {
   "cell_type": "code",
   "execution_count": 156,
   "metadata": {},
   "outputs": [
    {
     "data": {
      "text/plain": [
       "[98, 116, 103, 98, 104, 90, 107, 106, 94, 84]"
      ]
     },
     "execution_count": 156,
     "metadata": {},
     "output_type": "execute_result"
    }
   ],
   "source": [
    "count"
   ]
  },
  {
   "cell_type": "code",
   "execution_count": 177,
   "metadata": {},
   "outputs": [],
   "source": [
    "a = [ -2 , -5, -10 , -50 , -50]"
   ]
  },
  {
   "cell_type": "code",
   "execution_count": 167,
   "metadata": {},
   "outputs": [],
   "source": [
    "a = [1,2,3 ,4, 10]"
   ]
  },
  {
   "cell_type": "code",
   "execution_count": 178,
   "metadata": {},
   "outputs": [
    {
     "name": "stdout",
     "output_type": "stream",
     "text": [
      "-50 -50 -5 -2\n"
     ]
    }
   ],
   "source": [
    "max1=-101\n",
    "max2=-101\n",
    "min1=101\n",
    "min2=101\n",
    "for i in a:\n",
    "    if max1<i:\n",
    "        max2=max1\n",
    "        max1=i\n",
    "    elif max2<i:\n",
    "        max2=i\n",
    "    if min1>i:\n",
    "        min2=min1\n",
    "        min1=i\n",
    "    elif min2>i:\n",
    "        min2=i\n",
    "print(min1, min2, max2, max1)"
   ]
  },
  {
   "cell_type": "code",
   "execution_count": 179,
   "metadata": {},
   "outputs": [],
   "source": [
    "a.sort()"
   ]
  },
  {
   "cell_type": "code",
   "execution_count": 176,
   "metadata": {},
   "outputs": [
    {
     "data": {
      "text/plain": [
       "[-50, -50, -10, -5, -2]"
      ]
     },
     "execution_count": 176,
     "metadata": {},
     "output_type": "execute_result"
    }
   ],
   "source": [
    "a"
   ]
  },
  {
   "cell_type": "code",
   "execution_count": null,
   "metadata": {},
   "outputs": [],
   "source": [
    "b = a.remove(max(a))"
   ]
  },
  {
   "cell_type": "code",
   "execution_count": 180,
   "metadata": {},
   "outputs": [],
   "source": [
    "max1 = a[-1]\n",
    "max2 = a[-2]\n",
    "min1 = a[0]\n",
    "min2 = a[1]"
   ]
  },
  {
   "cell_type": "code",
   "execution_count": 181,
   "metadata": {},
   "outputs": [
    {
     "name": "stdout",
     "output_type": "stream",
     "text": [
      "-50 -50 -5 -2\n"
     ]
    }
   ],
   "source": [
    "print(min1, min2, max2, max1)"
   ]
  },
  {
   "cell_type": "code",
   "execution_count": 170,
   "metadata": {},
   "outputs": [],
   "source": [
    "b = a.remove(max(a))\n",
    "max2 = max(b)"
   ]
  },
  {
   "cell_type": "code",
   "execution_count": 169,
   "metadata": {},
   "outputs": [
    {
     "name": "stdout",
     "output_type": "stream",
     "text": [
      "2\n"
     ]
    }
   ],
   "source": [
    "print(min(min1*min2 , min1*max1 , max1*max2))"
   ]
  },
  {
   "cell_type": "markdown",
   "metadata": {},
   "source": [
    "# 07.04.2020"
   ]
  },
  {
   "cell_type": "code",
   "execution_count": 2,
   "metadata": {},
   "outputs": [
    {
     "name": "stdout",
     "output_type": "stream",
     "text": [
      "2\n",
      "-5\n",
      "8\n",
      "0 < x < 2.0\n"
     ]
    }
   ],
   "source": [
    "a = float(input())\n",
    "b = float(input())\n",
    "x = float(input())\n",
    "if b > 0:\n",
    "    if a>0:\n",
    "        print('x > ', a, ' или x < 0')\n",
    "    else:\n",
    "        print('x < ' , a, 'или x > 0')\n",
    "else:\n",
    "    if a > 0:\n",
    "        print('0 < x <', a)\n",
    "    else:\n",
    "        print(a, '< x < 0 ')"
   ]
  },
  {
   "cell_type": "markdown",
   "metadata": {},
   "source": [
    "$$\\frac{x-a}{bx} > 0$$"
   ]
  },
  {
   "cell_type": "markdown",
   "metadata": {},
   "source": [
    "b > 0 => \n",
    "    a > 0:\n",
    "        [-inf : 0) (a : +inf]\n",
    "    a < 0:\n",
    "        [-inf : a) (0 : +inf]\n",
    "b < 0 => \n",
    "    a > 0:\n",
    "        (0 : a)\n",
    "    a < 0:\n",
    "        (a : 0 )"
   ]
  },
  {
   "cell_type": "code",
   "execution_count": 3,
   "metadata": {},
   "outputs": [],
   "source": [
    "a = [10 , 45 , 55 , 245 , 35 , 25 , 10]"
   ]
  },
  {
   "cell_type": "code",
   "execution_count": null,
   "metadata": {},
   "outputs": [],
   "source": [
    "c =[]\n",
    "N = int(input())\n",
    "for i in range(N):\n",
    "    c.append(int(input()))    "
   ]
  },
  {
   "cell_type": "code",
   "execution_count": 7,
   "metadata": {},
   "outputs": [],
   "source": [
    "n = 7"
   ]
  },
  {
   "cell_type": "code",
   "execution_count": 10,
   "metadata": {},
   "outputs": [],
   "source": [
    "summ = 2000\n",
    "for i in range(n-4):\n",
    "    for j in range(i + 4 , n):\n",
    "        if(a[i] + a[j] < summ):\n",
    "            summ = a[i] + a[j]"
   ]
  },
  {
   "cell_type": "code",
   "execution_count": 11,
   "metadata": {},
   "outputs": [
    {
     "data": {
      "text/plain": [
       "20"
      ]
     },
     "execution_count": 11,
     "metadata": {},
     "output_type": "execute_result"
    }
   ],
   "source": [
    "summ"
   ]
  },
  {
   "cell_type": "markdown",
   "metadata": {},
   "source": [
    "# 14.04.2020"
   ]
  },
  {
   "cell_type": "markdown",
   "metadata": {},
   "source": [
    "Для заданной последовательности неотрицательных целых чисел необходимо найти минимальную сумму двух её элементов, номера которых различаются не менее чем на 4. Значение каждого элемента последовательности не превышает 1000. Количество элементов последовательности не превышает 10000."
   ]
  },
  {
   "cell_type": "markdown",
   "metadata": {},
   "source": [
    "7\n",
    "\n",
    "10\n",
    "\n",
    "45\n",
    "\n",
    "55\n",
    "\n",
    "245\n",
    "\n",
    "35\n",
    "\n",
    "25\n",
    "\n",
    "10"
   ]
  },
  {
   "cell_type": "code",
   "execution_count": 6,
   "metadata": {},
   "outputs": [],
   "source": [
    "buff = [ 0 for i in range(4) ]"
   ]
  },
  {
   "cell_type": "code",
   "execution_count": 8,
   "metadata": {},
   "outputs": [],
   "source": [
    "a = [10 , 45 , 55 , 245 , 35 , 25 , 10]"
   ]
  },
  {
   "cell_type": "code",
   "execution_count": 9,
   "metadata": {
    "scrolled": true
   },
   "outputs": [
    {
     "data": {
      "text/plain": [
       "[0, 0, 0, 0]"
      ]
     },
     "execution_count": 9,
     "metadata": {},
     "output_type": "execute_result"
    }
   ],
   "source": [
    "buff"
   ]
  },
  {
   "cell_type": "code",
   "execution_count": 19,
   "metadata": {},
   "outputs": [],
   "source": [
    "N = 7\n",
    "d = 4 # дилина буфера \n",
    "mn = 1001 # минимум кроме ближайших 4-х\n",
    "mins = 2001 # минимальная сумма"
   ]
  },
  {
   "cell_type": "code",
   "execution_count": 20,
   "metadata": {},
   "outputs": [
    {
     "name": "stdout",
     "output_type": "stream",
     "text": [
      "20\n"
     ]
    }
   ],
   "source": [
    "for i in range(d):\n",
    "    buff[i] = a[i]\n",
    "    \n",
    "for i in range(N-d):\n",
    "    c = a[i+d]\n",
    "    if (buff[0] < mn):\n",
    "        mn = buff[0]\n",
    "    if (mn + c < mins):\n",
    "        mins = mn + c\n",
    "    for i in range (3):\n",
    "        buff[i] = buff[i+1]\n",
    "    buff[3] = c\n",
    "print(mins)"
   ]
  },
  {
   "cell_type": "code",
   "execution_count": 17,
   "metadata": {},
   "outputs": [
    {
     "data": {
      "text/plain": [
       "[10, 45, 55, 245]"
      ]
     },
     "execution_count": 17,
     "metadata": {},
     "output_type": "execute_result"
    }
   ],
   "source": []
  },
  {
   "cell_type": "code",
   "execution_count": null,
   "metadata": {},
   "outputs": [],
   "source": []
  },
  {
   "cell_type": "markdown",
   "metadata": {},
   "source": [
    "Для заданной последовательности целых чисел необходимо найти максимальную сумму квадратов двух её элементов, номера которых различаются не менее чем на 10. Значение каждого элемента последовательности не превышает 100. Количество элементов последовательности не превышает 10000."
   ]
  },
  {
   "cell_type": "markdown",
   "metadata": {},
   "source": [
    "$(A^2 + B^2) -> max$"
   ]
  },
  {
   "cell_type": "code",
   "execution_count": 11,
   "metadata": {},
   "outputs": [],
   "source": [
    "d = 1\n",
    "mx = -1 #максимальный квадрат отстающий на 10\n",
    "maxs = -1 #максимальная сумма"
   ]
  },
  {
   "cell_type": "code",
   "execution_count": 12,
   "metadata": {},
   "outputs": [],
   "source": [
    "buff = [0 for i in range(d)]"
   ]
  },
  {
   "cell_type": "code",
   "execution_count": 13,
   "metadata": {},
   "outputs": [
    {
     "name": "stdout",
     "output_type": "stream",
     "text": [
      "5\n"
     ]
    }
   ],
   "source": [
    "N=int(input())"
   ]
  },
  {
   "cell_type": "code",
   "execution_count": 14,
   "metadata": {},
   "outputs": [
    {
     "name": "stdout",
     "output_type": "stream",
     "text": [
      "-10\n",
      "2\n",
      "2\n",
      "50\n",
      "2\n",
      "2600\n"
     ]
    }
   ],
   "source": [
    "#print(buff)\n",
    "for i in range(d):\n",
    "    buff[i] = int(input())\n",
    "    \n",
    "for i in range(N-d):\n",
    "    c=int(input())\n",
    "    if mx < buff[0]*buff[0]:\n",
    "        mx = buff[0]*buff[0]\n",
    "    if maxs < mx + c*c:\n",
    "        maxs = mx + c*c\n",
    "    for j in range(d-1):\n",
    "        buff[i]=buff[i+1]\n",
    "    buff[d-1]=c   \n",
    "print(maxs)\n",
    "    "
   ]
  },
  {
   "cell_type": "markdown",
   "metadata": {},
   "source": [
    "# 03.05.2020"
   ]
  },
  {
   "cell_type": "code",
   "execution_count": 8,
   "metadata": {},
   "outputs": [
    {
     "name": "stdout",
     "output_type": "stream",
     "text": [
      "i = 1 F(i) = 1 \n",
      "i = 2 F(i) = 8 \n",
      "i = 3 F(i) = 27 \n",
      "i = 4 F(i) = 64 \n",
      "i = 5 F(i) = 125 \n",
      "6 127\n"
     ]
    }
   ],
   "source": [
    "def F(n):\n",
    "    return n*n*n\n",
    "\n",
    "def G(n):\n",
    "    return 2*n + 3\n",
    "k = 62\n",
    "i = 1\n",
    "while F(i) < G(k):\n",
    "    print(\"i = {} F(i) = {} \".format(i , F(i) ))\n",
    "    i += 1\n",
    "print(i , G(k))"
   ]
  },
  {
   "cell_type": "code",
   "execution_count": 4,
   "metadata": {},
   "outputs": [
    {
     "name": "stdout",
     "output_type": "stream",
     "text": [
      "5\n",
      "38\n",
      "12\n",
      "57\n",
      "16\n",
      "57\n"
     ]
    }
   ],
   "source": [
    "N = int(input())\n",
    "a = []\n",
    "for i in range(N):\n",
    "    a.append(int(input()))"
   ]
  },
  {
   "cell_type": "code",
   "execution_count": 5,
   "metadata": {},
   "outputs": [
    {
     "data": {
      "text/plain": [
       "[38, 12, 57, 16, 57]"
      ]
     },
     "execution_count": 5,
     "metadata": {},
     "output_type": "execute_result"
    }
   ],
   "source": [
    "a"
   ]
  },
  {
   "cell_type": "markdown",
   "metadata": {},
   "source": [
    "1) сумма пары четная => макс чет макс нечет\n",
    "\n",
    "2) одно из чисел делится на 19 \n",
    "\n",
    "3) сумма максимальна\n"
   ]
  },
  {
   "cell_type": "code",
   "execution_count": 6,
   "metadata": {},
   "outputs": [
    {
     "data": {
      "text/plain": [
       "[38, 57, 16, 57, 12]"
      ]
     },
     "execution_count": 6,
     "metadata": {},
     "output_type": "execute_result"
    }
   ],
   "source": [
    "a"
   ]
  },
  {
   "cell_type": "code",
   "execution_count": 8,
   "metadata": {},
   "outputs": [
    {
     "name": "stdout",
     "output_type": "stream",
     "text": [
      "1\n",
      "1\n",
      "57 57\n"
     ]
    }
   ],
   "source": [
    "\n",
    "maxsumm=0\n",
    "number1=0\n",
    "number2=0\n",
    "for i in range(N):\n",
    "    for j in range(N):\n",
    "        if (a[i]+a[j])>maxsumm and (a[j]+a[i])%2==0 and (a[j]%19==0 or a[i]%19==0):\n",
    "            print(1)\n",
    "            maxsumm=a[i]+a[j]\n",
    "            number1=a[i]\n",
    "            number2=a[j]\n",
    "if maxsumm == 0:\n",
    "    print(\"0, 0\")\n",
    "else:\n",
    "    print(number1, number2)\n",
    "\n"
   ]
  },
  {
   "cell_type": "code",
   "execution_count": 12,
   "metadata": {},
   "outputs": [
    {
     "name": "stdout",
     "output_type": "stream",
     "text": [
      "5\n",
      "38\n",
      "57\n",
      "12\n",
      "16\n",
      "57\n",
      "57 57\n"
     ]
    }
   ],
   "source": [
    "num = [0 , 0]\n",
    "max_19_1 = -1\n",
    "max_19_0 = -1\n",
    "max_1 = -1\n",
    "max_0 = -1 \n",
    "N = int(input())\n",
    "for i in range(N):\n",
    "    k = int(input())\n",
    "    #use \n",
    "    if k % 19 == 0:\n",
    "        if k % 2 == 0:\n",
    "            if k + max_0 > sum(num) and max_0 > -1:\n",
    "                num[0] = max_0\n",
    "                num[1] = k\n",
    "        else:\n",
    "            if k + max_1 > sum(num) and max_1 > -1:\n",
    "                num[0] = max_1\n",
    "                num[1] = k\n",
    "    else:\n",
    "        if k % 2 == 0:\n",
    "            if k + max_19_0 > sum(num) and max_19_0 > -1:\n",
    "                num[0] = max_19_0\n",
    "                num[1] = k\n",
    "        else:\n",
    "            if k + max_19_1 > sum(num) and max_19_1 > -1:\n",
    "                num[0] = max_19_1\n",
    "                num[1] = k\n",
    "    \n",
    "    #refresh\n",
    "    if k % 19 == 0:\n",
    "        if k % 2 == 0 and k > max_19_0 : \n",
    "            max_19_0 = k\n",
    "        if k % 2 == 1 and k > max_19_1 : \n",
    "            max_19_1 = k\n",
    "    if k % 2 == 0 and k > max_0 : \n",
    "        max_0 = k\n",
    "    if k % 2 == 1 and k > max_1 : \n",
    "        max_1 = k\n",
    "print(num[0] , num[1])"
   ]
  },
  {
   "cell_type": "code",
   "execution_count": 10,
   "metadata": {},
   "outputs": [
    {
     "data": {
      "text/plain": [
       "[57, 57]"
      ]
     },
     "execution_count": 10,
     "metadata": {},
     "output_type": "execute_result"
    }
   ],
   "source": [
    "num"
   ]
  },
  {
   "cell_type": "markdown",
   "metadata": {},
   "source": [
    "# 01.07.2020"
   ]
  },
  {
   "cell_type": "code",
   "execution_count": 2,
   "metadata": {},
   "outputs": [
    {
     "name": "stdout",
     "output_type": "stream",
     "text": [
      "3\n",
      "10\n"
     ]
    }
   ],
   "source": [
    "n = int(input())\n",
    "t = int(input())\n"
   ]
  },
  {
   "cell_type": "code",
   "execution_count": 3,
   "metadata": {},
   "outputs": [
    {
     "name": "stdout",
     "output_type": "stream",
     "text": [
      "130\n",
      "210\n",
      "320\n",
      "140\n",
      "100\n",
      "120\n"
     ]
    }
   ],
   "source": [
    "a =[]\n",
    "b=[]\n",
    "for i in range(n):\n",
    "    a.append(int(input()))\n",
    "    b.append(int(input()))"
   ]
  },
  {
   "cell_type": "code",
   "execution_count": 4,
   "metadata": {},
   "outputs": [
    {
     "data": {
      "text/plain": [
       "[130, 320, 100]"
      ]
     },
     "execution_count": 4,
     "metadata": {},
     "output_type": "execute_result"
    }
   ],
   "source": [
    "a"
   ]
  },
  {
   "cell_type": "code",
   "execution_count": 5,
   "metadata": {},
   "outputs": [
    {
     "data": {
      "text/plain": [
       "[210, 140, 120]"
      ]
     },
     "execution_count": 5,
     "metadata": {},
     "output_type": "execute_result"
    }
   ],
   "source": [
    "b"
   ]
  },
  {
   "cell_type": "code",
   "execution_count": 11,
   "metadata": {},
   "outputs": [
    {
     "data": {
      "text/plain": [
       "[130]"
      ]
     },
     "execution_count": 11,
     "metadata": {},
     "output_type": "execute_result"
    }
   ],
   "source": [
    "a[:1]"
   ]
  },
  {
   "cell_type": "code",
   "execution_count": 13,
   "metadata": {},
   "outputs": [
    {
     "data": {
      "text/plain": [
       "[140, 120]"
      ]
     },
     "execution_count": 13,
     "metadata": {},
     "output_type": "execute_result"
    }
   ],
   "source": [
    "b[1:]"
   ]
  },
  {
   "cell_type": "code",
   "execution_count": 10,
   "metadata": {},
   "outputs": [
    {
     "name": "stdout",
     "output_type": "stream",
     "text": [
      "550\n",
      "400\n",
      "580\n",
      "470\n"
     ]
    }
   ],
   "source": [
    "s =100000000000000\n",
    "for i in range(n+1):\n",
    "    if i == 0:\n",
    "        s_1  = sum(a)\n",
    "    elif i == n:\n",
    "        s_1 = sum(b)\n",
    "    else:\n",
    "        s_1 = sum(a[:i]) + sum(b[i:]) + t\n",
    "    print(s_1)\n",
    "    if s_1 < s:\n",
    "        s = s_1"
   ]
  },
  {
   "cell_type": "code",
   "execution_count": 14,
   "metadata": {},
   "outputs": [],
   "source": [
    "x = 0\n",
    "y = 0\n",
    "for i in range(n):\n",
    "    a_i = a[i]\n",
    "    b_i = b[i]\n",
    "    x = x + a_i\n",
    "    y = min(x + t , y + b_i) "
   ]
  },
  {
   "cell_type": "code",
   "execution_count": 15,
   "metadata": {},
   "outputs": [
    {
     "data": {
      "text/plain": [
       "400"
      ]
     },
     "execution_count": 15,
     "metadata": {},
     "output_type": "execute_result"
    }
   ],
   "source": [
    "min(x , y)"
   ]
  },
  {
   "cell_type": "code",
   "execution_count": 17,
   "metadata": {},
   "outputs": [
    {
     "data": {
      "text/plain": [
       "4"
      ]
     },
     "execution_count": 17,
     "metadata": {},
     "output_type": "execute_result"
    }
   ],
   "source": [
    "abs(-4)"
   ]
  },
  {
   "cell_type": "code",
   "execution_count": 19,
   "metadata": {},
   "outputs": [
    {
     "name": "stdout",
     "output_type": "stream",
     "text": [
      "3\n",
      "6\n",
      "0\n",
      "0\n",
      "8\n",
      "9\n",
      "7\n",
      "24.0\n"
     ]
    }
   ],
   "source": [
    "s = 0\n",
    "x_max = 0\n",
    "y_max = 0\n",
    "n = int(input())\n",
    "for i in range(n):\n",
    "    x_i = int(input())\n",
    "    y_i = int(input())\n",
    "    if (x_i == 0):\n",
    "        if abs(y_i) > y_max:\n",
    "            y_max = abs(y_i)\n",
    "    if (y_i == 0):\n",
    "        if abs(x_i) > x_max:\n",
    "            x_max = abs(x_i)\n",
    "s = x_max * y_max / 2\n",
    "if s == 0:\n",
    "    print('Треугольник не существует')\n",
    "else:\n",
    "    print(s)"
   ]
  },
  {
   "cell_type": "code",
   "execution_count": null,
   "metadata": {},
   "outputs": [],
   "source": []
  }
 ],
 "metadata": {
  "kernelspec": {
   "display_name": "Python 3",
   "language": "python",
   "name": "python3"
  },
  "language_info": {
   "codemirror_mode": {
    "name": "ipython",
    "version": 3
   },
   "file_extension": ".py",
   "mimetype": "text/x-python",
   "name": "python",
   "nbconvert_exporter": "python",
   "pygments_lexer": "ipython3",
   "version": "3.7.6"
  }
 },
 "nbformat": 4,
 "nbformat_minor": 4
}
